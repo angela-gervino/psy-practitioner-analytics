{
 "cells": [
  {
   "cell_type": "code",
   "execution_count": 47,
   "metadata": {},
   "outputs": [],
   "source": [
    "import pandas as pd\n",
    "import matplotlib.pyplot as plt\n",
    "from ydata_profiling import ProfileReport"
   ]
  },
  {
   "cell_type": "code",
   "execution_count": 50,
   "metadata": {},
   "outputs": [],
   "source": [
    "%matplotlib inline"
   ]
  },
  {
   "cell_type": "code",
   "execution_count": 31,
   "metadata": {},
   "outputs": [],
   "source": [
    "df = pd.read_csv('psy-data.csv')"
   ]
  },
  {
   "cell_type": "code",
   "execution_count": 33,
   "metadata": {},
   "outputs": [],
   "source": [
    "# Check for duplicates\n",
    "df.drop_duplicates(subset=[\"Name\"], inplace=True)"
   ]
  },
  {
   "cell_type": "code",
   "execution_count": 34,
   "metadata": {},
   "outputs": [],
   "source": [
    "# Drop rows where verification is expired or they don't have a bio (low effort into their profile)\n",
    "\n",
    "df.drop(df[df.Verified == 'Expired'].index, inplace=True)\n",
    "df.drop(df[df.Bio == 'No'].index, inplace=True)\n",
    "\n",
    "df.replace(\"Yese\", \"Yes\", inplace=True) # Fix typo"
   ]
  },
  {
   "cell_type": "code",
   "execution_count": null,
   "metadata": {},
   "outputs": [],
   "source": [
    "# Pandas profile report\n",
    "modified_df = df.drop(['Top Specialties', 'Expertise', 'Qualifications', 'Name'], axis=1)\n",
    "\n",
    "profile = ProfileReport(modified_df)\n",
    "profile.to_file(\"psy-analytics-profile-report.html\")"
   ]
  },
  {
   "cell_type": "markdown",
   "metadata": {},
   "source": [
    "### Province"
   ]
  },
  {
   "cell_type": "code",
   "execution_count": null,
   "metadata": {},
   "outputs": [],
   "source": [
    "frequencies = df.Province.value_counts()\n",
    "\n",
    "plt.figure(figsize=(4,3))\n",
    "plt.bar(frequencies.index, frequencies.values, color=\"Green\")\n",
    "plt.xlabel(\"Province of Practitioner\")\n",
    "plt.ylabel(\"Number of Practitioners\")\n",
    "plt.show()"
   ]
  },
  {
   "cell_type": "markdown",
   "metadata": {},
   "source": [
    "### Gender"
   ]
  },
  {
   "cell_type": "code",
   "execution_count": null,
   "metadata": {},
   "outputs": [],
   "source": [
    "frequencies = df.Gender.value_counts()\n",
    "\n",
    "plt.figure(figsize=(4,3))\n",
    "plt.bar(frequencies.index, frequencies.values, color=\"Green\")\n",
    "plt.xlabel(\"Gender of Practitioner\")\n",
    "plt.ylabel(\"Number of Practitioners\")\n",
    "plt.show()"
   ]
  },
  {
   "cell_type": "markdown",
   "metadata": {},
   "source": [
    "### Top Specialty"
   ]
  },
  {
   "cell_type": "code",
   "execution_count": null,
   "metadata": {},
   "outputs": [],
   "source": [
    "tspecs_dict = dict()\n",
    "col = df[[\"Top Specialties\"]]\n",
    "col.dropna(inplace=True)\n",
    "\n",
    "for index, row in col.iterrows():\n",
    "    tspecs = row[\"Top Specialties\"][1:-1].split(\",\")\n",
    "    for spec in tspecs:\n",
    "        spec = spec.strip()\n",
    "        if spec not in tspecs_dict:\n",
    "            tspecs_dict[spec] = 1\n",
    "        else:\n",
    "            tspecs_dict[spec] = tspecs_dict[spec] + 1\n"
   ]
  },
  {
   "cell_type": "code",
   "execution_count": 94,
   "metadata": {},
   "outputs": [],
   "source": [
    "sorted_items = sorted(tspecs_dict.items(), key=lambda item: item[1], reverse=True)\n",
    "\n",
    "top10 = sorted_items[:10]\n",
    "bottom10 = sorted_items[-10:]"
   ]
  },
  {
   "cell_type": "code",
   "execution_count": null,
   "metadata": {},
   "outputs": [],
   "source": [
    "# Most common top specialties among practitioners\n",
    "\n",
    "labels, frequencies = zip(*top10)\n",
    "\n",
    "plt.figure(figsize=(4,3))\n",
    "plt.bar(labels, frequencies, color=\"Green\")\n",
    "plt.xlabel(\"Top Specialty\")\n",
    "plt.ylabel(\"Number of Practitioners\")\n",
    "plt.xticks(rotation=90)\n",
    "plt.show()"
   ]
  },
  {
   "cell_type": "code",
   "execution_count": null,
   "metadata": {},
   "outputs": [],
   "source": [
    "# Least common top specialties among practitioners\n",
    "\n",
    "labels, frequencies = zip(*bottom10)\n",
    "\n",
    "plt.figure(figsize=(4,3))\n",
    "plt.bar(labels, frequencies, color=\"Green\")\n",
    "plt.xlabel(\"Top Specialty\")\n",
    "plt.ylabel(\"Number of Practitioners\")\n",
    "plt.xticks(rotation=90)\n",
    "plt.show()"
   ]
  },
  {
   "cell_type": "markdown",
   "metadata": {},
   "source": [
    "### Expertise"
   ]
  },
  {
   "cell_type": "code",
   "execution_count": null,
   "metadata": {},
   "outputs": [],
   "source": [
    "expertise_dict = dict()\n",
    "col = df[[\"Expertise\"]]\n",
    "col.dropna(inplace=True)\n",
    "\n",
    "for index, row in col.iterrows():\n",
    "    expertise = row[\"Expertise\"][1:-1].split(\",\")\n",
    "    for item in expertise:\n",
    "        item = item.strip()\n",
    "        if item not in expertise_dict:\n",
    "            expertise_dict[item] = 1\n",
    "        else:\n",
    "            expertise_dict[item] = expertise_dict[item] + 1"
   ]
  },
  {
   "cell_type": "code",
   "execution_count": null,
   "metadata": {},
   "outputs": [],
   "source": [
    "sorted_items = sorted(expertise_dict.items(), key=lambda item: item[1], reverse=True)\n",
    "top15 = sorted_items[:15]\n",
    "\n",
    "labels, frequencies = zip(*top15)\n",
    "\n",
    "plt.figure(figsize=(4,3))\n",
    "plt.bar(labels, frequencies, color=\"Green\")\n",
    "plt.xlabel(\"Expertise\")\n",
    "plt.ylabel(\"Number of Practitioners\")\n",
    "plt.xticks(rotation=90)\n",
    "plt.show()\n"
   ]
  },
  {
   "cell_type": "markdown",
   "metadata": {},
   "source": [
    "### Qualifications"
   ]
  },
  {
   "cell_type": "code",
   "execution_count": null,
   "metadata": {},
   "outputs": [],
   "source": [
    "qualifications = dict()\n",
    "col = df[[\"Qualifications\"]]\n",
    "col.dropna(inplace=True)\n",
    "\n",
    "for index, row in col.iterrows():\n",
    "    quals = row[\"Qualifications\"][1:-1].split(\",\")\n",
    "    for qual in quals:\n",
    "        qual = qual.strip()\n",
    "        if qual not in qualifications:\n",
    "            qualifications[qual] = 1\n",
    "        else:\n",
    "            qualifications[qual] = qualifications[qual] + 1"
   ]
  },
  {
   "cell_type": "code",
   "execution_count": null,
   "metadata": {},
   "outputs": [],
   "source": [
    "sorted_qualifications = sorted(qualifications.items(), key=lambda item: item[1], reverse=True)\n",
    "\n",
    "top10_quals = sorted_qualifications[:10]\n",
    "labels, frequencies = zip(*top10_quals)\n",
    "\n",
    "plt.figure(figsize=(4,3))\n",
    "plt.bar(labels, frequencies, color=\"Green\")\n",
    "plt.xlabel(\"Qualification\")\n",
    "plt.ylabel(\"Number of Practitioners\")\n",
    "plt.xticks(rotation=90)\n",
    "plt.show()"
   ]
  }
 ],
 "metadata": {
  "kernelspec": {
   "display_name": "base",
   "language": "python",
   "name": "python3"
  },
  "language_info": {
   "codemirror_mode": {
    "name": "ipython",
    "version": 3
   },
   "file_extension": ".py",
   "mimetype": "text/x-python",
   "name": "python",
   "nbconvert_exporter": "python",
   "pygments_lexer": "ipython3",
   "version": "3.7.4"
  }
 },
 "nbformat": 4,
 "nbformat_minor": 2
}
